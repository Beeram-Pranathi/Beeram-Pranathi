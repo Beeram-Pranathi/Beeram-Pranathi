# Evaluation, inference, and Grad-CAM
from sklearn.metrics import roc_auc_score, confusion_matrix, classification_report
import matplotlib.pyplot as plt
import seaborn as sns

# Metrics
try:
    roc = roc_auc_score(val_y, val_probs)
    print('Validation ROC-AUC:', f'{roc:.4f}')
except Exception as e:
    print('ROC-AUC not available yet (need positive and negative samples).')

cm = confusion_matrix(val_y, (val_probs >= 0.5).astype(int))
sns.heatmap(cm, annot=True, fmt='d', cmap='Blues', xticklabels=class_names, yticklabels=class_names)
plt.title('Confusion Matrix (Val)')
plt.xlabel('Predicted')
plt.ylabel('True')
plt.show()

print(classification_report(val_y, (val_probs >= 0.5).astype(int), target_names=class_names))

# Inference helpers
infer_tf = transforms.Compose([
    transforms.Resize((CFG.image_size, CFG.image_size)),
    transforms.ToTensor(),
    transforms.Normalize(IMAGENET_MEAN, IMAGENET_STD),
])

def predict_image(image_path: str):
    model.eval()
    img = Image.open(image_path).convert('RGB')
    x = infer_tf(img).unsqueeze(0).to(device)
    with torch.no_grad():
        logits = model(x)
        probs = torch.softmax(logits, dim=1).cpu().numpy()[0]
    pred_idx = int(np.argmax(probs))
    return class_names[pred_idx], float(probs[1]), probs


def predict_video(video_path: str, tmp_dir: str = '/workspace/tmp_frames', fps: int = 4, max_frames: int = 64):
    tmp = Path(tmp_dir) / (Path(video_path).stem + '_frames')
    if tmp.exists():
        shutil.rmtree(tmp)
    frame_paths = extract_frames_ffmpeg(video_path, str(tmp), fps=fps, max_frames=max_frames)
    probs = []
    for fp in frame_paths:
        _, p_fake, _ = predict_image(fp)
        probs.append(p_fake)
    if not probs:
        return 'unknown', 0.5, []
    video_prob_fake = float(np.mean(probs))
    pred = class_names[1] if video_prob_fake >= 0.5 else class_names[0]
    return pred, video_prob_fake, probs

# Grad-CAM
class GradCAM:
    def __init__(self, model: nn.Module, target_layer_name: str):
        self.model = model
        self.target_layer = dict([*model.named_modules()])[target_layer_name]
        self.gradients = None
        self.activations = None
        self.hook_handles = [
            self.target_layer.register_forward_hook(self._forward_hook),
            self.target_layer.register_full_backward_hook(self._backward_hook),
        ]

    def _forward_hook(self, module, input, output):
        self.activations = output.detach()

    def _backward_hook(self, module, grad_input, grad_output):
        self.gradients = grad_output[0].detach()

    def remove_hooks(self):
        for h in self.hook_handles:
            h.remove()

    def __call__(self, input_tensor: torch.Tensor, class_index: int = None):
        self.model.zero_grad(set_to_none=True)
        logits = self.model(input_tensor)
        if class_index is None:
            class_index = int(logits.argmax(dim=1).item())
        score = logits[:, class_index].sum()
        score.backward(retain_graph=True)
        weights = self.gradients.mean(dim=(2, 3), keepdim=True)  # GAP over HxW
        cam = (weights * self.activations).sum(dim=1)
        cam = torch.relu(cam)
        cam = cam - cam.min()
        cam = cam / (cam.max() + 1e-6)
        return cam.squeeze(0).cpu().numpy()


def show_gradcam(image_path: str, target_layer_name: str):
    model.eval()
    img = Image.open(image_path).convert('RGB')
    x = infer_tf(img).unsqueeze(0).to(device)
    gradcam = GradCAM(model, target_layer_name)
    cam = gradcam(x)
    gradcam.remove_hooks()

    # Resize CAM to image size
    heatmap = cv2.resize(cam, (img.width, img.height))
    heatmap = (heatmap * 255).astype(np.uint8)
    heatmap = cv2.applyColorMap(heatmap, cv2.COLORMAP_JET)
    overlay = cv2.addWeighted(np.array(img)[:, :, ::-1], 0.6, heatmap, 0.4, 0)

    plt.figure(figsize=(10,4))
    plt.subplot(1,3,1); plt.imshow(img); plt.title('Image'); plt.axis('off')
    plt.subplot(1,3,2); plt.imshow(cam, cmap='jet'); plt.title('Grad-CAM'); plt.axis('off')
    plt.subplot(1,3,3); plt.imshow(overlay[:, :, ::-1]); plt.title('Overlay'); plt.axis('off')
    plt.tight_layout(); plt.show()

# Example: for torchvision resnet50 last conv layer is 'layer4.2.conv3' or 'layer4.2'
# show_gradcam('/path/to/image.jpg', target_layer_name='layer4.2')
# Training loop with checkpointing
from collections import defaultdict

best_val_acc = 0.0
history = defaultdict(list)


def train_one_epoch(epoch):
    model.train()
    running_loss, correct, total = 0.0, 0, 0
    for images, labels in train_loader:
        images, labels = images.to(device, non_blocking=True), labels.to(device, non_blocking=True)
        optimizer.zero_grad(set_to_none=True)
        with torch.cuda.amp.autocast(enabled=scaler.is_enabled()):
            logits = model(images)
            loss = criterion(logits, labels)
        scaler.scale(loss).backward()
        scaler.step(optimizer)
        scaler.update()
        running_loss += loss.item() * images.size(0)
        preds = logits.argmax(1)
        correct += (preds == labels).sum().item()
        total += labels.size(0)
    train_loss = running_loss / total
    train_acc = correct / total
    return train_loss, train_acc


def evaluate():
    model.eval()
    running_loss, correct, total = 0.0, 0, 0
    all_probs, all_labels = [], []
    with torch.no_grad():
        for images, labels in val_loader:
            images, labels = images.to(device, non_blocking=True), labels.to(device, non_blocking=True)
            with torch.cuda.amp.autocast(enabled=scaler.is_enabled()):
                logits = model(images)
                loss = criterion(logits, labels)
            running_loss += loss.item() * images.size(0)
            probs = torch.softmax(logits, dim=1)[:, 1]
            preds = logits.argmax(1)
            correct += (preds == labels).sum().item()
            total += labels.size(0)
            all_probs.append(probs.detach().cpu())
            all_labels.append(labels.detach().cpu())
    val_loss = running_loss / total
    val_acc = correct / total
    all_probs = torch.cat(all_probs).numpy()
    all_labels = torch.cat(all_labels).numpy()
    return val_loss, val_acc, all_probs, all_labels


for epoch in range(1, CFG.max_epochs + 1):
    t0 = time.time()
    tr_loss, tr_acc = train_one_epoch(epoch)
    val_loss, val_acc, val_probs, val_y = evaluate()
    history['train_loss'].append(tr_loss)
    history['train_acc'].append(tr_acc)
    history['val_loss'].append(val_loss)
    history['val_acc'].append(val_acc)

    improved = val_acc > best_val_acc
    if improved:
        best_val_acc = val_acc
        ckpt_path = Path(CFG.checkpoint_dir) / f'{CFG.model_name}_best.pt'
        torch.save({'model': model.state_dict(), 'cfg': CFG.__dict__, 'epoch': epoch, 'val_acc': val_acc}, ckpt_path)
    dt = time.time() - t0
    print(f'Epoch {epoch}/{CFG.max_epochs} | train_loss {tr_loss:.4f} acc {tr_acc:.4f} | val_loss {val_loss:.4f} acc {val_acc:.4f} | time {dt:.1f}s', '(improved)' if improved else '')
# Model
import torch.nn as nn
import timm
from torchvision.models import resnet50 as tv_resnet50

num_classes = 2

def build_model(model_name: str, pretrained: bool):
    if model_name == 'torchvision_resnet50':
        model = tv_resnet50(weights='IMAGENET1K_V2' if pretrained else None)
        in_features = model.fc.in_features
        model.fc = nn.Linear(in_features, num_classes)
        return model
    # timm
    model = timm.create_model(model_name, pretrained=pretrained, num_classes=num_classes)
    return model

model = build_model(CFG.model_name, CFG.pretrained)
device = torch.device('cuda' if torch.cuda.is_available() else 'cpu')
model = model.to(device)

criterion = nn.CrossEntropyLoss()
optimizer = torch.optim.AdamW(model.parameters(), lr=CFG.learning_rate, weight_decay=CFG.weight_decay)
scaler = torch.cuda.amp.GradScaler(enabled=CFG.mixed_precision and device.type == 'cuda')
# Data loaders
train_tf, val_tf = build_transforms(CFG.image_size)

dataset = datasets.ImageFolder(CFG.data_root, transform=train_tf)
num_total = len(dataset)
num_train = int(num_total * CFG.train_split)
num_val = num_total - num_train

train_set, val_set = random_split(dataset, [num_train, num_val], generator=torch.Generator().manual_seed(CFG.random_seed))
# Override val transform
val_set.dataset.transform = val_tf

train_loader = DataLoader(train_set, batch_size=CFG.batch_size, shuffle=True, num_workers=CFG.num_workers, pin_memory=True)
val_loader = DataLoader(val_set, batch_size=CFG.batch_size, shuffle=False, num_workers=CFG.num_workers, pin_memory=True)

class_names = dataset.classes
print('Classes:', class_names)
# Dataset utilities and transforms
import cv2
import numpy as np
from PIL import Image
from torchvision import transforms, datasets
from torch.utils.data import DataLoader, random_split

IMAGENET_MEAN = [0.485, 0.456, 0.406]
IMAGENET_STD = [0.229, 0.224, 0.225]

def build_transforms(image_size: int):
    train_tf = transforms.Compose([
        transforms.Resize((image_size, image_size)),
        transforms.RandomHorizontalFlip(),
        transforms.ColorJitter(0.1, 0.1, 0.1, 0.05),
        transforms.ToTensor(),
        transforms.Normalize(IMAGENET_MEAN, IMAGENET_STD),
    ])
    val_tf = transforms.Compose([
        transforms.Resize((image_size, image_size)),
        transforms.ToTensor(),
        transforms.Normalize(IMAGENET_MEAN, IMAGENET_STD),
    ])
    return train_tf, val_tf


def extract_frames_ffmpeg(video_path: str, out_dir: str, fps: int = 4, max_frames: int = 64):
    out = Path(out_dir)
    out.mkdir(parents=True, exist_ok=True)
    # Try ffmpeg first
    if shutil.which('ffmpeg'):
        cmd = [
            'ffmpeg', '-i', video_path, '-vf', f'fps={fps}',
            '-q:v', '2', str(out / '%05d.jpg'), '-hide_banner', '-loglevel', 'error'
        ]
        try:
            subprocess.run(cmd, check=True)
        except Exception as e:
            print('ffmpeg extraction failed, falling back to OpenCV:', e)
        else:
            # Truncate to max_frames
            frames = sorted(out.glob('*.jpg'))
            for p in frames[max_frames:]:
                p.unlink(missing_ok=True)
            return [str(p) for p in sorted(out.glob('*.jpg'))]

    # Fallback to OpenCV
    cap = cv2.VideoCapture(video_path)
    if not cap.isOpened():
        raise RuntimeError(f'Cannot open video: {video_path}')
    frame_paths = []
    frame_count = 0
    frame_interval = max(1, int(cap.get(cv2.CAP_PROP_FPS) // fps) if cap.get(cv2.CAP_PROP_FPS) else 6)
    while True:
        ret = cap.grab()
        if not ret:
            break
        if int(cap.get(cv2.CAP_PROP_POS_FRAMES)) % frame_interval == 0:
            ret2, frame = cap.retrieve()
            if not ret2:
                continue
            frame = cv2.cvtColor(frame, cv2.COLOR_BGR2RGB)
            img = Image.fromarray(frame)
            fp = out / f'{frame_count:05d}.jpg'
            img.save(fp)
            frame_paths.append(str(fp))
            frame_count += 1
            if frame_count >= max_frames:
                break
    cap.release()
    return frame_paths
# Config
from dataclasses import dataclass

@dataclass
class Config:
    data_root: str = '/workspace/data/deepfake'  # expects ImageFolder: root/{real,fake}
    train_split: float = 0.8
    random_seed: int = 42
    batch_size: int = 32
    num_workers: int = 4
    image_size: int = 224
    model_name: str = 'resnet50'  # any timm model name or 'torchvision_resnet50'
    pretrained: bool = True
    learning_rate: float = 3e-4
    weight_decay: float = 1e-4
    max_epochs: int = 10
    mixed_precision: bool = True
    checkpoint_dir: str = '/workspace/checkpoints/deepfake'

CFG = Config()
Path(CFG.checkpoint_dir).mkdir(parents=True, exist_ok=True)
random.seed(CFG.random_seed)
os.environ['PYTHONHASHSEED'] = str(CFG.random_seed)
import sys, subprocess, os, shutil, math, time, random
from pathlib import Path

REQS = [
    'torch', 'torchvision', 'torchaudio',
    'timm',
    'opencv-python',
    'scikit-learn',
    'matplotlib', 'seaborn',
    'pillow',
    'numpy',
]

def pip_install_if_missing(packages):
    to_install = []
    for pkg in packages:
        try:
            __import__(pkg.split('[')[0].replace('-', '_'))
        except Exception:
            to_install.append(pkg)
    if to_install:
        print('Installing:', to_install)
        subprocess.check_call([sys.executable, '-m', 'pip', 'install', '--quiet'] + to_install)
    else:
        print('All requirements appear satisfied.')

pip_install_if_missing(REQS)

import torch
print('Torch version:', torch.__version__, 'CUDA available:', torch.cuda.is_available())# Deepfake Detection: All-in-One Notebook

This notebook provides an end-to-end pipeline for deepfake detection:
- Environment setup (optional installs)
- Data preparation (images and optional video-to-frames extraction)
- Model definition (transfer learning; supports `timm` or `torchvision`)
- Training with checkpointing
- Evaluation (accuracy, ROC-AUC, confusion matrix)
- Inference on images/videos
- Grad-CAM visualizations

Notes:
- Works with any image dataset organized as `root/{real,fake}/image.jpg` (ImageFolder format).
- Video inference optionally samples frames via `ffmpeg` if available (or OpenCV fallback).
- GPU is optional but recommended.